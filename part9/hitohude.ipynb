{
 "cells": [
  {
   "cell_type": "code",
   "execution_count": 1,
   "metadata": {},
   "outputs": [
    {
     "name": "stdout",
     "output_type": "stream",
     "text": [
      "Number of subpaths: 1\n",
      "Subpath 1 length: 18.432595388728327\n",
      "Is one stroke: True\n"
     ]
    }
   ],
   "source": [
    "import svgpathtools\n",
    "\n",
    "# パスデータの文字列\n",
    "path_str = \"M 2.614456,0.04305907 C -0.03519642,-0.05013041 0.29631932,2.7704015 0.38598443,2.8585255 L 1.2958347,1.8249996 1.1244138,1.2725989 1.2958347,1.8249996 2.2979871,0.55982315 1.7046078,1.3795156 2.1397537,1.3438767 1.7046078,1.3795156 -0.00960316,3.482204 0.1090739,3.678218 0.5969637,3.0010812 c 0.0566946,0.085227 -0.0821144,-0.036163 0,0 1.896299,0.8350973 2.1009769,-2.94190352 2.0174923,-2.95802213 z\"\n",
    "\n",
    "# パスを解析\n",
    "path = svgpathtools.parse_path(path_str)\n",
    "\n",
    "# パスのサブパスを確認\n",
    "subpaths = list(path.continuous_subpaths())\n",
    "\n",
    "# サブパスの数を表示\n",
    "print(f\"Number of subpaths: {len(subpaths)}\")\n",
    "\n",
    "# 各サブパスの長さを表示\n",
    "for i, subpath in enumerate(subpaths):\n",
    "    print(f\"Subpath {i + 1} length: {subpath.length()}\")\n",
    "\n",
    "# 全てのサブパスの長さが正であれば一筆書き\n",
    "is_one_stroke = len(subpaths) == 1 and all(subpath.length() > 0 for subpath in subpaths)\n",
    "print(f\"Is one stroke: {is_one_stroke}\")"
   ]
  }
 ],
 "metadata": {
  "kernelspec": {
   "display_name": "my-manim-environment",
   "language": "python",
   "name": "python3"
  },
  "language_info": {
   "codemirror_mode": {
    "name": "ipython",
    "version": 3
   },
   "file_extension": ".py",
   "mimetype": "text/x-python",
   "name": "python",
   "nbconvert_exporter": "python",
   "pygments_lexer": "ipython3",
   "version": "3.11.8"
  }
 },
 "nbformat": 4,
 "nbformat_minor": 2
}
